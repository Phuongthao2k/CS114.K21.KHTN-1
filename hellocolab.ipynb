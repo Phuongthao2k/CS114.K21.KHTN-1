{
  "nbformat": 4,
  "nbformat_minor": 0,
  "metadata": {
    "colab": {
      "name": "hellocolab.ipynb",
      "provenance": [],
      "toc_visible": true
    },
    "kernelspec": {
      "name": "python3",
      "display_name": "Python 3"
    }
  },
  "cells": [
    {
      "cell_type": "markdown",
      "metadata": {
        "id": "k-fh-vYPN2PR",
        "colab_type": "text"
      },
      "source": [
        "HELLO from colab"
      ]
    }
  ]
}